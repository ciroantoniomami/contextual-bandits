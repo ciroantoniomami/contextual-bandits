{
 "cells": [
  {
   "cell_type": "code",
   "execution_count": 27,
   "metadata": {},
   "outputs": [],
   "source": [
    "from LogReg_TS import *\n",
    "from LinTS import *\n",
    "from Bernoulli_TS import *\n",
    "from LInUCB import *\n",
    "from EpsilonGreedy import *\n",
    "from tqdm import tqdm\n",
    "from utils import get_data, compute_regret\n",
    "import matplotlib.pyplot as plt\n",
    "import pandas as pd\n",
    "import pickle\n",
    "plt.rcParams[\"figure.figsize\"] = (16,9)\n",
    "plt.rcParams.update({'font.size': 18})"
   ]
  },
  {
   "cell_type": "markdown",
   "metadata": {},
   "source": [
    "### Read Data"
   ]
  },
  {
   "cell_type": "code",
   "execution_count": 37,
   "metadata": {},
   "outputs": [],
   "source": [
    "streaming_batch, user_feature, reward_list, action_context = get_data()\n",
    "action_context = np.array(action_context.iloc[:,2:])\n",
    "\n",
    "K, D = action_context.shape\n",
    "T = len(streaming_batch)\n",
    "#T = 15000\n",
    "starting_point = 5000"
   ]
  },
  {
   "cell_type": "markdown",
   "metadata": {},
   "source": [
    "### Random"
   ]
  },
  {
   "cell_type": "code",
   "execution_count": 38,
   "metadata": {},
   "outputs": [
    {
     "name": "stderr",
     "output_type": "stream",
     "text": [
      "100%|██████████| 23016/23016 [01:38<00:00, 233.19it/s]"
     ]
    },
    {
     "name": "stdout",
     "output_type": "stream",
     "text": [
      "36.865658672228015\n"
     ]
    },
    {
     "name": "stderr",
     "output_type": "stream",
     "text": [
      "\n"
     ]
    }
   ],
   "source": [
    "seq_error = np.full(T-1-starting_point,0)\n",
    "for t in tqdm(range(0, T-1-starting_point)):\n",
    "    feature_user = np.array(user_feature[user_feature.index == int(streaming_batch.iloc[t+starting_point+1, 0])])\n",
    "    watched_list = reward_list[reward_list['user_id'] == int(streaming_batch.iloc[t+starting_point+1, 0])]\n",
    "    \n",
    "    optimal_action = np.random.randint(K)\n",
    "\n",
    "    if optimal_action in list(watched_list['movie_id']):\n",
    "        reward = 1.0\n",
    "        regret = 0.0\n",
    "    else:\n",
    "        reward = 0.0\n",
    "        regret = 1.0\n",
    "\n",
    "    if t == 0:\n",
    "            seq_error[t] = regret\n",
    "    else:\n",
    "            seq_error[t] = seq_error[t-1] + regret\n",
    "            \n",
    "cum_reg_random = compute_regret(seq_error)\n",
    "seq_err_random = seq_error\n",
    "print(cum_reg_random[-1] * 100)"
   ]
  },
  {
   "cell_type": "markdown",
   "metadata": {},
   "source": [
    "### Bernoulli"
   ]
  },
  {
   "cell_type": "code",
   "execution_count": 39,
   "metadata": {},
   "outputs": [
    {
     "name": "stderr",
     "output_type": "stream",
     "text": [
      "100%|██████████| 23016/23016 [02:29<00:00, 153.87it/s]"
     ]
    },
    {
     "name": "stdout",
     "output_type": "stream",
     "text": [
      "23.105665623913797\n"
     ]
    },
    {
     "name": "stderr",
     "output_type": "stream",
     "text": [
      "\n"
     ]
    }
   ],
   "source": [
    "# Parameters\n",
    "alpha = 1\n",
    "beta = 1\n",
    "\n",
    "# Init bandit\n",
    "bandit = Bernoulli_TS(alpha=alpha, beta=beta, K=K)\n",
    "\n",
    "# \n",
    "seq_error = np.full(T-1-starting_point,0)\n",
    "for t in tqdm(range(0, T-1-starting_point)):\n",
    "    feature_user = np.array(user_feature[user_feature.index == int(streaming_batch.iloc[t+1+starting_point, 0])])\n",
    "    watched_list = reward_list[reward_list['user_id'] == int(streaming_batch.iloc[t+1+starting_point, 0])]\n",
    "    \n",
    "    optimal_action = bandit.get_action()\n",
    "    \n",
    "    if optimal_action in list(watched_list['movie_id']):\n",
    "        reward = 1.0\n",
    "        regret = 0.0\n",
    "    else:\n",
    "        reward = 0.0\n",
    "        regret = 1.0\n",
    "\n",
    "    if t == 0:\n",
    "            seq_error[t] = regret\n",
    "    else:\n",
    "            seq_error[t] = seq_error[t-1] + regret\n",
    "\n",
    "    bandit.update(reward, optimal_action)\n",
    "\n",
    "cum_reg_bernoulli = compute_regret(seq_error)\n",
    "seq_err_bernoulli = seq_error\n",
    "print(cum_reg_bernoulli[-1] * 100)"
   ]
  },
  {
   "cell_type": "markdown",
   "metadata": {},
   "source": [
    "### Linear UCB"
   ]
  },
  {
   "cell_type": "code",
   "execution_count": 40,
   "metadata": {},
   "outputs": [
    {
     "name": "stderr",
     "output_type": "stream",
     "text": [
      "100%|██████████| 23016/23016 [02:06<00:00, 182.44it/s]"
     ]
    },
    {
     "name": "stdout",
     "output_type": "stream",
     "text": [
      "41.097497393117834\n"
     ]
    },
    {
     "name": "stderr",
     "output_type": "stream",
     "text": [
      "\n"
     ]
    }
   ],
   "source": [
    "# Parameters\n",
    "alpha = 1\n",
    "lambda_ = 1\n",
    "\n",
    "# Init bandit\n",
    "bandit = LinUCB(alpha, D, T, K, lambda_, disjoint=False)\n",
    "\n",
    "# \n",
    "seq_error = np.full(T-1-starting_point,0)\n",
    "for t in tqdm(range(0, T-1-starting_point)):\n",
    "    feature_user = np.array(user_feature[user_feature.index == int(streaming_batch.iloc[t+1+starting_point, 0])])\n",
    "    watched_list = reward_list[reward_list['user_id'] == int(streaming_batch.iloc[t+1+starting_point, 0])]\n",
    "    context = feature_user * action_context\n",
    "    \n",
    "    optimal_action = bandit.get_action(context)\n",
    "\n",
    "    if optimal_action in list(watched_list['movie_id']):\n",
    "        reward = 1.0\n",
    "        regret = 0.0\n",
    "    else:\n",
    "        reward = 0.0\n",
    "        regret = 1.0\n",
    "\n",
    "    if t == 0:\n",
    "            seq_error[t] = regret\n",
    "    else:\n",
    "            seq_error[t] = seq_error[t-1] + regret\n",
    "\n",
    "    bandit.update(reward, context, optimal_action)\n",
    "\n",
    "cum_reg_LinUCB = compute_regret(seq_error)\n",
    "seq_err_LinUCB = seq_error\n",
    "print(cum_reg_LinUCB[-1] * 100)"
   ]
  },
  {
   "cell_type": "code",
   "execution_count": 41,
   "metadata": {},
   "outputs": [
    {
     "name": "stderr",
     "output_type": "stream",
     "text": [
      "100%|██████████| 23016/23016 [02:18<00:00, 166.07it/s]"
     ]
    },
    {
     "name": "stdout",
     "output_type": "stream",
     "text": [
      "35.92718109141467\n"
     ]
    },
    {
     "name": "stderr",
     "output_type": "stream",
     "text": [
      "\n"
     ]
    }
   ],
   "source": [
    "# Parameters\n",
    "alpha = 1\n",
    "lambda_ = 1\n",
    "\n",
    "# Init bandit\n",
    "bandit = LinUCB(alpha, D, T, K, lambda_, disjoint=True)\n",
    "\n",
    "# \n",
    "seq_error = np.full(T-1-starting_point,0)\n",
    "for t in tqdm(range(0, T-1-starting_point)):\n",
    "    feature_user = np.array(user_feature[user_feature.index == int(streaming_batch.iloc[t+1+starting_point, 0])])\n",
    "    watched_list = reward_list[reward_list['user_id'] == int(streaming_batch.iloc[t+1+starting_point, 0])]\n",
    "    context = np.repeat(feature_user, K).reshape(K, D)\n",
    "    \n",
    "    optimal_action = bandit.get_action(context)\n",
    "\n",
    "    if optimal_action in list(watched_list['movie_id']):\n",
    "        reward = 1.0\n",
    "        regret = 0.0\n",
    "    else:\n",
    "        reward = 0.0\n",
    "        regret = 1.0\n",
    "\n",
    "    if t == 0:\n",
    "            seq_error[t] = regret\n",
    "    else:\n",
    "            seq_error[t] = seq_error[t-1] + regret\n",
    "\n",
    "    bandit.update(reward, context, optimal_action)\n",
    "\n",
    "cum_reg_LinUCB_disjoint = compute_regret(seq_error)\n",
    "seq_err_LinUCB_disjoint = seq_error\n",
    "print(cum_reg_LinUCB_disjoint[-1] * 100)"
   ]
  },
  {
   "cell_type": "markdown",
   "metadata": {},
   "source": [
    "### Linear TS"
   ]
  },
  {
   "cell_type": "code",
   "execution_count": 42,
   "metadata": {},
   "outputs": [
    {
     "name": "stderr",
     "output_type": "stream",
     "text": [
      "100%|██████████| 23016/23016 [02:28<00:00, 155.48it/s]"
     ]
    },
    {
     "name": "stdout",
     "output_type": "stream",
     "text": [
      "33.2464372610358\n"
     ]
    },
    {
     "name": "stderr",
     "output_type": "stream",
     "text": [
      "\n"
     ]
    }
   ],
   "source": [
    "# Parameters\n",
    "R = 0.1\n",
    "delta = 0.9\n",
    "\n",
    "# Init bandit\n",
    "bandit = LinTS(R, delta, D, K)\n",
    "\n",
    "# \n",
    "seq_error = np.full(T-1-starting_point,0)\n",
    "for t in tqdm(range(0, T-1-starting_point)):\n",
    "    feature_user = np.array(user_feature[user_feature.index == int(streaming_batch.iloc[t+1+starting_point, 0])])\n",
    "    watched_list = reward_list[reward_list['user_id'] == int(streaming_batch.iloc[t+1+starting_point, 0])]\n",
    "    #context = feature_user * action_context\n",
    "    context = np.repeat(feature_user, K).reshape(K, D)\n",
    "    \n",
    "    optimal_action = bandit.get_action(mtx_content=context, t_step=t+1)\n",
    "\n",
    "    if optimal_action in list(watched_list['movie_id']):\n",
    "        reward = 1\n",
    "        regret = 0\n",
    "    else:\n",
    "        reward = 0\n",
    "        regret = 1\n",
    "\n",
    "    if t == 0:\n",
    "            seq_error[t] = regret\n",
    "    else:\n",
    "            seq_error[t] = seq_error[t-1] + regret\n",
    "\n",
    "    bandit.update(reward=reward, mtx_content=context, optimal_action=optimal_action)\n",
    "    \n",
    "cum_reg_linear_ts = compute_regret(seq_error)\n",
    "seq_err_linear_ts = seq_error\n",
    "print(cum_reg_linear_ts[-1] * 100)"
   ]
  },
  {
   "cell_type": "markdown",
   "metadata": {},
   "source": [
    "### Logistic Regression TS"
   ]
  },
  {
   "cell_type": "code",
   "execution_count": 43,
   "metadata": {},
   "outputs": [
    {
     "name": "stderr",
     "output_type": "stream",
     "text": [
      "100%|██████████| 23016/23016 [18:57<00:00, 20.23it/s]   "
     ]
    },
    {
     "name": "stdout",
     "output_type": "stream",
     "text": [
      "36.00538755648245\n"
     ]
    },
    {
     "name": "stderr",
     "output_type": "stream",
     "text": [
      "\n"
     ]
    }
   ],
   "source": [
    "# Parameters\n",
    "lambda_ = 0.9\n",
    "alpha = 0.9\n",
    "S = 1000\n",
    "X_in = None\n",
    "y_out = None\n",
    "\n",
    "# Init bandit\n",
    "bandit = LogReg_TS(lambda_=lambda_, D=D, alpha=alpha)\n",
    "\n",
    "# \n",
    "seq_error = np.full(T-1-starting_point,0)\n",
    "for t in tqdm(range(0, T-1-starting_point)):\n",
    "    feature_user = np.array(user_feature[user_feature.index == int(streaming_batch.iloc[t+1+starting_point, 0])])\n",
    "    watched_list = reward_list[reward_list['user_id'] == int(streaming_batch.iloc[t+1+starting_point, 0])]\n",
    "    context = feature_user * action_context\n",
    "    #context = np.repeat(feature_user, K).reshape(K, D)\n",
    "    \n",
    "    optimal_action = bandit.get_action(context)\n",
    "    \n",
    "    if optimal_action in list(watched_list['movie_id']):\n",
    "        reward = 1\n",
    "        regret = 0\n",
    "    else:\n",
    "        reward = 0\n",
    "        regret = 1\n",
    "        \n",
    "    if X_in is not None:\n",
    "        X_in = np.vstack((X_in, context[optimal_action]))\n",
    "        y_out = np.append(y_out, reward)\n",
    "    else:\n",
    "        X_in = context[optimal_action]\n",
    "        y_out = np.array([reward])\n",
    "        \n",
    "    if t == 0:\n",
    "            seq_error[t] = regret\n",
    "    else:\n",
    "            seq_error[t] = seq_error[t-1] + regret\n",
    "\n",
    "    if t % S == 0:\n",
    "        bandit.update(X_in, y_out)\n",
    "    \n",
    "cum_reg_logreg_ts = compute_regret(seq_error)\n",
    "seq_err_logreg_ts = seq_error\n",
    "print(cum_reg_logreg_ts[-1]*100)"
   ]
  },
  {
   "cell_type": "markdown",
   "metadata": {},
   "source": [
    "### $\\mathcal{E}$-Greedy "
   ]
  },
  {
   "cell_type": "code",
   "execution_count": 44,
   "metadata": {},
   "outputs": [],
   "source": [
    "load = True\n",
    "if load:\n",
    "    with (open(\"exp/regret_egreedy_0.2_fit1000.pkl\", \"rb\")) as f:\n",
    "        cum_reg_egreedy = pickle.load(f)[:T-starting_point-1]\n",
    "\n",
    "else: \n",
    "    K, _ = action_context.shape\n",
    "    decay =  0.9999\n",
    "    eps = 0.2\n",
    "    fit_step = 100\n",
    "\n",
    "    bandit = EpsilonGreedy(K, eps, decay, fit_step)\n",
    "\n",
    "    seq_error = np.full(T-start_T,0)\n",
    "\n",
    "    for t in range(0, T-1- start_T):\n",
    "        feature_user = np.array(user_feature[user_feature.index == int(streaming_batch.iloc[t + start_T + 1, 0])])\n",
    "        watched_list = reward_list[reward_list['user_id'] == int(streaming_batch.iloc[t + start_T + 1, 0])]\n",
    "        optimal_action = bandit.get_action(feature_user, t)\n",
    "        \n",
    "        if optimal_action not in list(watched_list['movie_id']):\n",
    "            reward , regret = 0.0 , 1.0\n",
    "            \n",
    "        else:\n",
    "            reward , regret = 1.0 , 0.0\n",
    "            \n",
    "\n",
    "        bandit.update(feature_user, optimal_action, reward, t)\n",
    "\n",
    "        if t == 0:\n",
    "            seq_error[t] = regret\n",
    "            \n",
    "        else:\n",
    "            seq_error[t] = seq_error[t-1] + regret\n",
    "        \n",
    "    cum_reg_egreedy = compute_regret(seq_error)\n",
    "\n",
    "    "
   ]
  },
  {
   "cell_type": "code",
   "execution_count": 45,
   "metadata": {},
   "outputs": [
    {
     "data": {
      "image/png": "[encoded data removed]",
      "text/plain": [
       "<Figure size 1152x648 with 1 Axes>"
      ]
     },
     "metadata": {
      "needs_background": "light"
     },
     "output_type": "display_data"
    }
   ],
   "source": [
    "x = [i for i in range(T-1-starting_point)]\n",
    "plt.plot(x, cum_reg_random, label=\"Random\")\n",
    "plt.plot(x, cum_reg_bernoulli, label=\"Bernoulli\")\n",
    "plt.plot(x, cum_reg_linear_ts, label=\"LinTS\")\n",
    "plt.plot(x, cum_reg_logreg_ts, label=\"LogReg TS\")\n",
    "plt.plot(x, cum_reg_LinUCB, label=\"LinUCB\")\n",
    "plt.plot(x, cum_reg_LinUCB_disjoint, label=\"LinUCB disj\")\n",
    "plt.plot(x, cum_reg_egreedy, label=\"Egreedy-LogReg\")\n",
    "plt.legend()\n",
    "plt.xlabel(\"Time\")\n",
    "plt.ylabel(\"Regret\")\n",
    "#plt.ylim(-0.05,1.05)\n",
    "#plt.savefig(f\"plots/T_{T}_onlyuser={only_user_context}.svg\", facecolor=\"white\", bordercolor=\"white\")\n",
    "plt.show()"
   ]
  }
 ],
 "metadata": {
  "kernelspec": {
   "display_name": "Python 3",
   "language": "python",
   "name": "python3"
  },
  "language_info": {
   "codemirror_mode": {
    "name": "ipython",
    "version": 3
   },
   "file_extension": ".py",
   "mimetype": "text/x-python",
   "name": "python",
   "nbconvert_exporter": "python",
   "pygments_lexer": "ipython3",
   "version": "3.8.5"
  },
  "vscode": {
   "interpreter": {
    "hash": "88279d2366fe020547cde40dd65aa0e3aa662a6ec1f3ca12d88834876c85e1a6"
   }
  }
 },
 "nbformat": 4,
 "nbformat_minor": 4
}
